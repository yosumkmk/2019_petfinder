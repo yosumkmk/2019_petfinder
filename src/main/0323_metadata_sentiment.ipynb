{
 "cells": [
  {
   "cell_type": "code",
   "execution_count": 49,
   "metadata": {},
   "outputs": [],
   "source": [
    "import pickle\n",
    "with open('./train_dfs_sentiment.pkl', 'rb') as f:\n",
    "    data_sentiment = pickle.load(f)"
   ]
  },
  {
   "cell_type": "code",
   "execution_count": 52,
   "metadata": {},
   "outputs": [
    {
     "data": {
      "text/plain": [
       "'Nibble cuteness clinic cats result kitty couple cats people household care funds space'"
      ]
     },
     "execution_count": 52,
     "metadata": {},
     "output_type": "execute_result"
    }
   ],
   "source": [
    "data_sentiment['sentiment_entities'][0]"
   ]
  },
  {
   "cell_type": "code",
   "execution_count": null,
   "metadata": {},
   "outputs": [],
   "source": []
  },
  {
   "cell_type": "code",
   "execution_count": null,
   "metadata": {},
   "outputs": [],
   "source": []
  },
  {
   "cell_type": "code",
   "execution_count": null,
   "metadata": {},
   "outputs": [],
   "source": []
  },
  {
   "cell_type": "code",
   "execution_count": 26,
   "metadata": {},
   "outputs": [],
   "source": [
    "import pickle\n",
    "with open('./train_dfs_metadata.pkl', 'rb') as f:\n",
    "    data_metadata = pickle.load(f)"
   ]
  },
  {
   "cell_type": "code",
   "execution_count": 27,
   "metadata": {
    "scrolled": true
   },
   "outputs": [],
   "source": [
    "data_metadata_desc = data_metadata.groupby(['PetID'])['metadata_annots_top_desc'].unique()\n",
    "data_metadata_desc = data_metadata_desc.reset_index()"
   ]
  },
  {
   "cell_type": "code",
   "execution_count": 34,
   "metadata": {},
   "outputs": [],
   "source": [
    "data_metadata_desc[\n",
    "'metadata_annots_top_desc'] = data_metadata_desc[\n",
    "'metadata_annots_top_desc'].apply(lambda x: ' '.join(x))"
   ]
  },
  {
   "cell_type": "code",
   "execution_count": 40,
   "metadata": {},
   "outputs": [],
   "source": [
    "word_list2 = [inflection.singularize(x) for x in data_metadata_desc['metadata_annots_top_desc'][0].split(' ')]"
   ]
  },
  {
   "cell_type": "code",
   "execution_count": 41,
   "metadata": {},
   "outputs": [
    {
     "data": {
      "text/plain": [
       "{'aegean',\n",
       " 'burmilla',\n",
       " 'cat',\n",
       " 'domestic',\n",
       " 'european',\n",
       " 'eye',\n",
       " 'fur',\n",
       " 'haired',\n",
       " 'khao',\n",
       " 'kitten',\n",
       " 'like',\n",
       " 'mammal',\n",
       " 'manee',\n",
       " 'medium',\n",
       " 'nose',\n",
       " 'paw',\n",
       " 'short',\n",
       " 'shorthair',\n",
       " 'sized',\n",
       " 'small',\n",
       " 'snout',\n",
       " 'to',\n",
       " 'turkish',\n",
       " 'van',\n",
       " 'whisker'}"
      ]
     },
     "execution_count": 41,
     "metadata": {},
     "output_type": "execute_result"
    }
   ],
   "source": [
    "set(word_list2)"
   ]
  },
  {
   "cell_type": "code",
   "execution_count": 42,
   "metadata": {
    "scrolled": true
   },
   "outputs": [
    {
     "name": "stdout",
     "output_type": "stream",
     "text": [
      "khao\n",
      "short\n",
      "shorthair\n",
      "sized\n",
      "cat\n",
      "manee\n",
      "haired\n",
      "to\n",
      "turkish\n",
      "fur\n",
      "kitten\n",
      "like\n",
      "mammal\n",
      "aegean\n",
      "cats\n",
      "van\n",
      "snout\n",
      "small\n",
      "whiskers\n",
      "burmilla\n",
      "paw\n",
      "nose\n",
      "domestic\n",
      "eye\n",
      "european\n",
      "medium\n"
     ]
    }
   ],
   "source": [
    "for i in set(data_metadata_desc['metadata_annots_top_desc'][0].split(' ')):\n",
    "    print(i)"
   ]
  },
  {
   "cell_type": "code",
   "execution_count": null,
   "metadata": {},
   "outputs": [],
   "source": [
    "np.linalg.norm(train_img - test_img)"
   ]
  },
  {
   "cell_type": "code",
   "execution_count": 1,
   "metadata": {},
   "outputs": [],
   "source": [
    "import json\n",
    "with open('../../input/petfinder-adoption-prediction/train_metadata/0008c5398-1.json', 'r') as f:\n",
    "    data = json.load(f)"
   ]
  },
  {
   "cell_type": "code",
   "execution_count": 2,
   "metadata": {},
   "outputs": [],
   "source": [
    "word_list = []\n",
    "for i in range(len(data['labelAnnotations'])):\n",
    "    word_list.extend(data['labelAnnotations'][i]['description'].split(' '))"
   ]
  },
  {
   "cell_type": "code",
   "execution_count": 3,
   "metadata": {},
   "outputs": [],
   "source": [
    "import fasttext"
   ]
  },
  {
   "cell_type": "code",
   "execution_count": 4,
   "metadata": {},
   "outputs": [],
   "source": [
    "import inflection"
   ]
  },
  {
   "cell_type": "code",
   "execution_count": 5,
   "metadata": {},
   "outputs": [],
   "source": [
    "word_list2 = [inflection.singularize(x) for x in word_list]"
   ]
  },
  {
   "cell_type": "code",
   "execution_count": 6,
   "metadata": {},
   "outputs": [
    {
     "data": {
      "text/plain": [
       "{'burmilla',\n",
       " 'cat',\n",
       " 'domestic',\n",
       " 'eye',\n",
       " 'haired',\n",
       " 'khao',\n",
       " 'kitten',\n",
       " 'like',\n",
       " 'mammal',\n",
       " 'manee',\n",
       " 'medium',\n",
       " 'short',\n",
       " 'sized',\n",
       " 'small',\n",
       " 'snout',\n",
       " 'to',\n",
       " 'whisker'}"
      ]
     },
     "execution_count": 6,
     "metadata": {},
     "output_type": "execute_result"
    }
   ],
   "source": [
    "(set(word_list2))"
   ]
  },
  {
   "cell_type": "code",
   "execution_count": 7,
   "metadata": {},
   "outputs": [],
   "source": [
    "import gensim"
   ]
  },
  {
   "cell_type": "code",
   "execution_count": 8,
   "metadata": {},
   "outputs": [],
   "source": [
    "model = gensim.models.KeyedVectors.load_word2vec_format('../../input/word2vec/GoogleNews-vectors-negative300.bin', binary=True)"
   ]
  },
  {
   "cell_type": "code",
   "execution_count": 47,
   "metadata": {},
   "outputs": [
    {
     "data": {
      "text/plain": [
       "2.1355996"
      ]
     },
     "execution_count": 47,
     "metadata": {},
     "output_type": "execute_result"
    }
   ],
   "source": [
    "np.linalg.norm(model.word_vec('small'), 2)"
   ]
  },
  {
   "cell_type": "code",
   "execution_count": 14,
   "metadata": {},
   "outputs": [
    {
     "data": {
      "text/plain": [
       "[{'mid': '/m/01yrx',\n",
       "  'description': 'cat',\n",
       "  'score': 0.9943703,\n",
       "  'topicality': 0.9943703},\n",
       " {'mid': '/m/07k6w8',\n",
       "  'description': 'small to medium sized cats',\n",
       "  'score': 0.9213904,\n",
       "  'topicality': 0.9213904},\n",
       " {'mid': '/m/01l7qd',\n",
       "  'description': 'whiskers',\n",
       "  'score': 0.91749674,\n",
       "  'topicality': 0.91749674},\n",
       " {'mid': '/m/0307l',\n",
       "  'description': 'cat like mammal',\n",
       "  'score': 0.89707345,\n",
       "  'topicality': 0.89707345},\n",
       " {'mid': '/m/014sv8',\n",
       "  'description': 'eye',\n",
       "  'score': 0.80012083,\n",
       "  'topicality': 0.80012083},\n",
       " {'mid': '/m/07kdjg0',\n",
       "  'description': 'khao manee',\n",
       "  'score': 0.7978423,\n",
       "  'topicality': 0.7978423},\n",
       " {'mid': '/m/012c9l',\n",
       "  'description': 'domestic short haired cat',\n",
       "  'score': 0.79726064,\n",
       "  'topicality': 0.79726064},\n",
       " {'mid': '/m/0hjzp',\n",
       "  'description': 'kitten',\n",
       "  'score': 0.7815977,\n",
       "  'topicality': 0.7815977},\n",
       " {'mid': '/m/04myxc',\n",
       "  'description': 'burmilla',\n",
       "  'score': 0.77866554,\n",
       "  'topicality': 0.77866554},\n",
       " {'mid': '/m/05mqq3',\n",
       "  'description': 'snout',\n",
       "  'score': 0.7310313,\n",
       "  'topicality': 0.7310313}]"
      ]
     },
     "execution_count": 14,
     "metadata": {},
     "output_type": "execute_result"
    }
   ],
   "source": [
    "data['labelAnnotations']"
   ]
  },
  {
   "cell_type": "code",
   "execution_count": null,
   "metadata": {},
   "outputs": [],
   "source": []
  },
  {
   "cell_type": "code",
   "execution_count": null,
   "metadata": {},
   "outputs": [],
   "source": []
  },
  {
   "cell_type": "code",
   "execution_count": null,
   "metadata": {},
   "outputs": [],
   "source": []
  },
  {
   "cell_type": "code",
   "execution_count": null,
   "metadata": {},
   "outputs": [],
   "source": [
    "model = fasttext.skipgram('../../input/word2vec/crawl-300d-2M.vec', 'model')"
   ]
  },
  {
   "cell_type": "code",
   "execution_count": null,
   "metadata": {},
   "outputs": [],
   "source": []
  }
 ],
 "metadata": {
  "kernelspec": {
   "display_name": "Python 3",
   "language": "python",
   "name": "python3"
  },
  "language_info": {
   "codemirror_mode": {
    "name": "ipython",
    "version": 3
   },
   "file_extension": ".py",
   "mimetype": "text/x-python",
   "name": "python",
   "nbconvert_exporter": "python",
   "pygments_lexer": "ipython3",
   "version": "3.6.7"
  }
 },
 "nbformat": 4,
 "nbformat_minor": 2
}
